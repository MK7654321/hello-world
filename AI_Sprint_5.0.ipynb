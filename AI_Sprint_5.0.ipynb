{
  "nbformat": 4,
  "nbformat_minor": 0,
  "metadata": {
    "orig_nbformat": 4,
    "language_info": {
      "name": "python",
      "version": "3.8.10",
      "mimetype": "text/x-python",
      "codemirror_mode": {
        "name": "ipython",
        "version": 3
      },
      "pygments_lexer": "ipython3",
      "nbconvert_exporter": "python",
      "file_extension": ".py"
    },
    "kernelspec": {
      "name": "python3",
      "display_name": "Python 3.8.10 64-bit"
    },
    "interpreter": {
      "hash": "916dbcbb3f70747c44a77c7bcd40155683ae19c65e1c03b4aa3499c5328201f1"
    },
    "colab": {
      "name": "AI_Sprint_5.0.ipynb",
      "provenance": [],
      "include_colab_link": true
    }
  },
  "cells": [
    {
      "cell_type": "markdown",
      "metadata": {
        "id": "view-in-github",
        "colab_type": "text"
      },
      "source": [
        "<a href=\"https://colab.research.google.com/github/MK7654321/hello-world/blob/main/AI_Sprint_5.0.ipynb\" target=\"_parent\"><img src=\"https://colab.research.google.com/assets/colab-badge.svg\" alt=\"Open In Colab\"/></a>"
      ]
    },
    {
      "cell_type": "markdown",
      "metadata": {
        "id": "V30GJ-PL274t"
      },
      "source": [
        "AI_Sprint_5.0\n",
        "Please work on the following questions and document and describes it here.  \n",
        "As you have the possibility to explain it by using python go forward and do it in this notebook!\n"
      ]
    },
    {
      "cell_type": "markdown",
      "metadata": {
        "id": "BWH49mvp2749"
      },
      "source": [
        "> - __Als Student würde ich gerne das ai discovery diamond framework erklären__"
      ]
    },
    {
      "cell_type": "markdown",
      "metadata": {
        "id": "_6vK9_Wd275B"
      },
      "source": [
        ""
      ]
    },
    {
      "cell_type": "markdown",
      "metadata": {
        "id": "zf-LxneP275C"
      },
      "source": [
        "> - __Als Student möchte ich erklären, was ein AI Canvas ist?__"
      ]
    },
    {
      "cell_type": "markdown",
      "metadata": {
        "id": "Cn_RpZ-S275E"
      },
      "source": [
        ""
      ]
    },
    {
      "cell_type": "markdown",
      "metadata": {
        "id": "iK0T-9co275F"
      },
      "source": [
        "> - __Als Student möchte ich verstehen, welche Stakeholder/Shareholder und Teammitglieder vorhanden sein müssen, um ein KI-Projektteam zu bilden__"
      ]
    },
    {
      "cell_type": "markdown",
      "metadata": {
        "id": "p0dn-VFn275H"
      },
      "source": [
        ""
      ]
    },
    {
      "cell_type": "markdown",
      "metadata": {
        "id": "HrVIf5Ai275K"
      },
      "source": [
        "> - __Als Student möchte ich die verschiedenen Arten von Daten verstehen - strukturiert / unstrukturiert__"
      ]
    },
    {
      "cell_type": "markdown",
      "metadata": {
        "id": "gtnPsGoa275N"
      },
      "source": [
        ""
      ]
    },
    {
      "cell_type": "markdown",
      "metadata": {
        "id": "z4g3uNuk275P"
      },
      "source": [
        "> - __Als Student möchte ich verschiedene Datentypen und -ausrichtungen unterscheiden können (zeilenbasierte Daten, grafikbasierte Daten, Abhängigkeitsdaten)__"
      ]
    },
    {
      "cell_type": "markdown",
      "metadata": {
        "id": "NHw6Sg5v275R"
      },
      "source": [
        ""
      ]
    },
    {
      "cell_type": "markdown",
      "metadata": {
        "id": "lsib5sxW275S"
      },
      "source": [
        "> - __Als Student/in möchte ich beschreiben können, was zeilenbasierte Daten (Datensätze) sind.__"
      ]
    },
    {
      "cell_type": "markdown",
      "metadata": {
        "id": "TXG8QQjd275U"
      },
      "source": [
        ""
      ]
    },
    {
      "cell_type": "markdown",
      "metadata": {
        "id": "0G6u95Ag275W"
      },
      "source": [
        "> - __Als Student/in möchte ich beschreiben können, was grafikbasierte Daten sind.__"
      ]
    },
    {
      "cell_type": "markdown",
      "metadata": {
        "id": "e97PQr5b275a"
      },
      "source": [
        ""
      ]
    },
    {
      "cell_type": "markdown",
      "metadata": {
        "id": "Ev8vGCdU275b"
      },
      "source": [
        "> - __Als Student/in möchte ich beschreiben können, was Abhängigkeitsdaten sind.__"
      ]
    },
    {
      "cell_type": "markdown",
      "metadata": {
        "id": "0q5OqlWi275d"
      },
      "source": [
        ""
      ]
    },
    {
      "cell_type": "markdown",
      "metadata": {
        "id": "WoGKjkVk275e"
      },
      "source": [
        "> - __Als Student möchte ich verstehen, wie Maschinen mit textuellen Daten im Kontext der künstlichen Intelligenz arbeiten können.__"
      ]
    },
    {
      "cell_type": "markdown",
      "metadata": {
        "id": "NugHLGZ1275f"
      },
      "source": [
        ""
      ]
    },
    {
      "cell_type": "markdown",
      "metadata": {
        "id": "0CQ0e3Dm275g"
      },
      "source": [
        "> - __Als Student würde ich gerne die verschiedenen Arten von Skalen verstehen, die Daten haben können: Nominalskala, Ordinalskala, Intervallskala, Verhältnisskala__"
      ]
    },
    {
      "cell_type": "markdown",
      "metadata": {
        "id": "J2IaL0a8275g"
      },
      "source": [
        ""
      ]
    },
    {
      "cell_type": "markdown",
      "metadata": {
        "id": "1AgMR7gf275h"
      },
      "source": [
        "> - __Als Student möchte ich die Methodik der exlporativen Datenanalyse verstehen.__"
      ]
    },
    {
      "cell_type": "markdown",
      "metadata": {
        "id": "DRj8ot4K275h"
      },
      "source": [
        ""
      ]
    },
    {
      "cell_type": "markdown",
      "metadata": {
        "id": "l9uK5lp_275i"
      },
      "source": [
        "> - __Als Student möchte ich das Papier \"Unresonal Effectivness of Data\" verstehen__"
      ]
    },
    {
      "cell_type": "markdown",
      "metadata": {
        "id": "hgdG2vFw275i"
      },
      "source": [
        "In dem Paper ist die Rede von Sprachumschreibungs- und Übersetzungsplattformen sowie von der Unterscheidung zwischen \"Semantic Web\" und \"Semantic Interpretation\"\n",
        "\n",
        "Grundsätzlich gilt: Eine vielfach größere Menge an Daten überwiegt Probleme und Ungenauigkeiten eines Algorithmus. **\"Mehr Daten schlagen den besseren Algorithmus!\"**\n",
        "\n",
        "Spracherkennung und Übersetzungen sind standardisierte Prozesse, die täglich anfallen. Um die Prozesse effizienter zu gestalten, kann eine Automatisierung der standardisierten Prozesse erfolgen.\n",
        "Dabei sollen bevorzugt umfangreiche und verfügbare Daten genutzt werden, anstatt auf nicht oder nur wenig vorhandene, bereits markierte Daten zu hoffen.\n",
        "Semantische Beziehungen können automatisch aus Statistiken von\n",
        "Suchanfragen und den entsprechenden Ergebnissen oder aus den gesammelten Belegen von webbasierten Textmustern und formatierten Tabellen vom Algorithmus gelernt werden.\n",
        "\n",
        "Heutige Übersetzungsplattformen nutzen nur allgemeine Regeln bei der Übersetzung, wenn es um das Auswendiglernen von bestimmten Formulierungen/Abkürzungen/Ausdrücke geht. Für die meisten Anwendungen reichen Wörter und Wortkombinationen als Grundlage aus, aus welchen die Maschine lernt.\n",
        "\n",
        "In der Realität treten bei Übersetzungsplattformen drei orthogonale Probleme auf:\n",
        "1. Wahl der Repräsentationssprache\n",
        "2. Codierung eines Modells in dieser Sprache\n",
        "3. Durchführung einer Inferenz auf dieses Modell\n",
        "\n",
        "**Semantic Web:**\n",
        "Das Semantic Web ist eine Konvention für formale Repräsentationssprachen, die Software-Dienste miteinander interagieren lassen können, ohne dass Künstliche Intelligenz erforderlich ist.\n",
        "Die \"Semantik\" im \"Semantic Web\" ist im Code verankert, der diese Dienste in Übereinstimmung mit den Spezifikationen implementiert, die sich aus den einschlägigen Ontologien und der beigefügten informellen Dokumentation ergeben.\n",
        "\n",
        "*Folgende Probleme treten auf:*\n",
        "- Ontologieerstellung\n",
        "- Schwierigkeit der Implementierung\n",
        "- Konkurrenz\n",
        "- Ungenauigkeit und Täuschung\n",
        "\n",
        "**Semantic Interpretation:**\n",
        "Die semantische Interpretation befasst sich mit der ungenauen, mehrdeutigen Auslegung der natürlichen Sprache (Wort und Schrift).\n",
        "Die \"Semantik\" in der \"Semantic Interpretation\" natürlicher Sprachen ist vielmehr in menschlichen und kulturellen Prozessen verankert, bei denen sprachliche Äußerungen erwartete Reaktionen und Veränderungen des kognitiven Zustands hervorrufen.\n",
        "\n",
        "*Bereits gelöste Probleme:*\n",
        "- Soziologisches Problem: Aufbau einer globalen Netzwerk-Infrastruktur \n",
        "- Technisches Problem: Zusammenführung und Indizierung aller Inhalte\n",
        "\n",
        "*Noch bestehendes Problem:*\n",
        "- Wissenschaftliches Problem: Interpretation des Inhalts, so viel wie möglich über den Inhalt erfahren, um ihn korrekt zu bestimmen.\n",
        "\n",
        "Das Problem der semantischen Interpretation bleibt bestehen, unabhängig davon, ob ein Semantic Web-Framework verwendet wird. \n",
        "**Dieselbe Bedeutung kann auf viele verschiedene Arten ausgedrückt werden und derselbe Ausdruck kann viele verschiedene Bedeutungen ausdrücken. **\n",
        "\n",
        "Es werden Methoden zur Ableitung von Beziehungen zwischen Spaltenüberschriften oder Erwähnungen von Entitäten in der Welt benötigt.\n",
        "Diese Schlüsse können manchmal falsch sein, aber wenn sie gut genug gemacht sind, können sie unterschiedlichste Datensammlungen miteinander verbinden und so die Interaktion mit Webdaten erheblich verbessern.\n",
        "\n",
        "Im Web sind hunderte Millionen an unabhängig erstellten Daten in Form von Tabellen oder Listen enthalten, die sich in Tabellen umwandeln lassen.\n",
        "Dabei handelt es sich um strukturierte Daten, die zudem die unterschiedlichen Entscheidungen der Menschen beinhalten, welche Spaltenbezeichnungen und welche Spaltenwerte verwendet werden.\n",
        "Es steht eine große Sammlung von Tabellen (und deren Schemata) zur Verfügung, die bei der Lösung semantischer Heterogenität unterstützt.\n",
        "Dadurch können Synonyme und Abkürzungen im Kontext korrekt zugeordnet werden.\n",
        "\n",
        "**Schlussfolgerung:**\n",
        "1. Darstellung verwenden, die unsupervised learning mit unmarkierten Daten verwendet, da sie viel besser funktioniert als mit bereits markierten Daten.\n",
        "2. Repräsentation der Daten mit einem nichtparametrischen Modell, anstatt Zusammenfassung mit parametrischem Modell, denn bei sehr großen \n",
        "Datenquellen enthalten die Daten eine Menge Details.\n",
        "3. Menschliche Sprache hat bereits Worte für die wichtigen Konzepte entwickelt. Lieber bereits vorhandene Wörter miteinander verknüpfen als neue Konzepte mit Wortclustern erfinden."
      ]
    },
    {
      "cell_type": "markdown",
      "metadata": {
        "id": "xZty6vYt275j"
      },
      "source": [
        "> - __Als Student möchte ich erklären, was Korrelation ist und wie sie in der Phase der EDA auf Daten angewendet werden kann.__"
      ]
    },
    {
      "cell_type": "markdown",
      "metadata": {
        "id": "zosUN-pL275j"
      },
      "source": [
        ""
      ]
    },
    {
      "cell_type": "markdown",
      "metadata": {
        "id": "3-OUYUrb275j"
      },
      "source": [
        "> - __Als Student würde ich Daten mit verschiedenen Techniken wie tabellarischer oder visueller Analyse beschreiben können__"
      ]
    },
    {
      "cell_type": "markdown",
      "metadata": {
        "id": "wlEGUmoA275k"
      },
      "source": [
        ""
      ]
    },
    {
      "cell_type": "markdown",
      "metadata": {
        "id": "XOhVwIaE275k"
      },
      "source": [
        "> - __Als Student würde ich gerne verstehen, was Datenqualität ist und warum sie im Bereich der künstlichen Intelligenz wichtig ist.__"
      ]
    },
    {
      "cell_type": "markdown",
      "metadata": {
        "id": "4_axE_i1275l"
      },
      "source": [
        ""
      ]
    },
    {
      "cell_type": "markdown",
      "metadata": {
        "id": "sJu-vryu275l"
      },
      "source": [
        "> - __Als Student würde ich gerne erklären, was ein Boxplot ist und wie er nach Tukey beschrieben wird.__"
      ]
    },
    {
      "cell_type": "markdown",
      "metadata": {
        "id": "l6gLsEmO275m"
      },
      "source": [
        ""
      ]
    }
  ]
}